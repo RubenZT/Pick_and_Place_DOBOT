{
 "cells": [
  {
   "cell_type": "code",
   "execution_count": 1,
   "metadata": {},
   "outputs": [],
   "source": [
    "import threading\n",
    "import DobotDllType as dType\n",
    "#se crean definiciones para determinar errores en la comunicacion\n",
    "CON_STR = {\n",
    "    dType.DobotConnect.DobotConnect_NoError:  \"DobotConnect_NoError\",\n",
    "    dType.DobotConnect.DobotConnect_NotFound: \"DobotConnect_NotFound\",\n",
    "    dType.DobotConnect.DobotConnect_Occupied: \"DobotConnect_Occupied\"\n",
    "    }\n",
    "\n"
   ]
  },
  {
   "cell_type": "code",
   "execution_count": 2,
   "metadata": {},
   "outputs": [
    {
     "name": "stdout",
     "output_type": "stream",
     "text": [
      "python： ('64bit', 'WindowsPE')\n",
      "datos de retorno de conexion  [[0, 2, 0, 'DobotSerial', '0.0.0', 1, 0, 0.0]]\n",
      "Id Robot  [2]\n",
      "Connect status: DobotConnect_NoError\n"
     ]
    }
   ],
   "source": [
    "#Load Dll and get the CDLL object\n",
    "api = dType.load()\n",
    "#Connect Dobot\n",
    "state = dType.ConnectDobot(api, \"\", 115200)\n",
    "print(\"datos de retorno de conexion \",[state])\n",
    "print(\"Id Robot \",[state[1]])\n",
    "print(\"Connect status:\",CON_STR[state[0]])\n"
   ]
  },
  {
   "cell_type": "code",
   "execution_count": 3,
   "metadata": {},
   "outputs": [
    {
     "name": "stdout",
     "output_type": "stream",
     "text": [
      "[180.0, 0.0, 0.0, 0.0]\n",
      "[0.0, 0.0]\n"
     ]
    }
   ],
   "source": [
    "\n",
    "#para realizar movimientos en x,y,z se define el valor de la posicion al que se desea que se mueva el robot\n",
    "dType.SetPTPCmd(api, dType.PTPMode.PTPMOVLXYZMode, 200 , -20, 30, -90, isQueued = 1)[0]\n",
    "dType.SetQueuedCmdStartExec(api)\n",
    "print(dType.GetHOMEParams(api))\n",
    "print(dType.GetKinematics(api))\n",
    "dType.SetQueuedCmdStopExec(api)"
   ]
  },
  {
   "cell_type": "code",
   "execution_count": 4,
   "metadata": {},
   "outputs": [
    {
     "name": "stdout",
     "output_type": "stream",
     "text": [
      "[180.0, 0.0, 0.0, 0.0]\n",
      "[0.0, 0.0]\n"
     ]
    }
   ],
   "source": [
    "#para realizar movimientos de cada articulacion se define el valor del angulo al que se desea que rote dicha articulacion\n",
    "dType.SetPTPCmd(api, dType.PTPMode.PTPMOVJANGLEMode, 15 , 25, 25,0, isQueued = 1)[0]\n",
    "dType.SetQueuedCmdStartExec(api)\n",
    "print(dType.GetHOMEParams(api))\n",
    "print(dType.GetKinematics(api))\n",
    "dType.SetQueuedCmdStopExec(api)"
   ]
  },
  {
   "cell_type": "code",
   "execution_count": 24,
   "metadata": {},
   "outputs": [],
   "source": [
    "dType.SetEndEffectorSuctionCupEx(api,True,False) #True par aactivar ventosa el segundo paramttro, y para desactivar cambiarlo por False"
   ]
  },
  {
   "cell_type": "code",
   "execution_count": 38,
   "metadata": {},
   "outputs": [
    {
     "name": "stdout",
     "output_type": "stream",
     "text": [
      "move doIt\n",
      "False\n",
      "move doIt\n",
      "True\n",
      "move doIt\n",
      "False\n"
     ]
    }
   ],
   "source": [
    "\n",
    "if (state[0] == dType.DobotConnect.DobotConnect_NoError):\n",
    "    #Clean Command Queued\n",
    "    dType.SetQueuedCmdClear(api)\n",
    "    \n",
    "    \n",
    "    #Async Motion Params Setting\n",
    "    #definir la posicion home\n",
    "    #dType.SetHOMEParams(api, 200, 0, 130, 0, isQueued = 1)\n",
    "    #definir la velocidad y aceleracion de cada Joint\n",
    "    #dType.SetPTPJointParams(api, 200, 200, 200, 200, 200, 200, 200, 200, isQueued = 1)\n",
    "    #definir una velovidad y aceleracion global de movimiento\n",
    "    dType.SetPTPCommonParams(api, 80, 20, isQueued = 1)\n",
    "\n",
    "    #Async Home mover a posicion home\n",
    "    #dType.SetHOMECmd(api, temp = 0, isQueued = 1)\n",
    "\n",
    "    #Async PTP Motion\n",
    "    lastIndex1 = dType.SetPTPCmd(api, dType.PTPMode.PTPMOVLXYZMode, 200 , 0, 130, 0, isQueued = 1)[0]\n",
    "    lastIndex2 = dType.SetPTPCmd(api, dType.PTPMode.PTPMOVLXYZMode, 220 , 50, -41, -90, isQueued = 1)[0]\n",
    "    lastIndex3 = dType.SetPTPCmd(api, dType.PTPMode.PTPMOVLXYZMode, 180 , -50, 30, -90, isQueued = 1)[0]\n",
    "    index=[lastIndex1, lastIndex2, lastIndex3]\n",
    "\n",
    "    #Start to Execute Command Queue\n",
    "    dType.SetQueuedCmdStartExec(api)\n",
    "    st = False\n",
    "    #Wait for Executing Last Command \n",
    "    for i in range(3):\n",
    "        while index[i] > dType.GetQueuedCmdCurrentIndex(api)[0]:\n",
    "            dType.dSleep(100)\n",
    "        dType.SetEndEffectorSuctionCupEx(api,st,st)   #la variable st cambia a true y false para activar y desactivar la ventosa en cada punto        \n",
    "        print(\"move doIt\")\n",
    "        print(st)\n",
    "        st = not st\n",
    "\n",
    "    #Stop to Execute Command Queued\n",
    "    dType.SetQueuedCmdStopExec(api)\n",
    "\n"
   ]
  },
  {
   "cell_type": "code",
   "execution_count": 4,
   "metadata": {},
   "outputs": [],
   "source": [
    "\n",
    "#Disconnect Dobot\n",
    "dType.DisconnectDobot(api)"
   ]
  },
  {
   "cell_type": "code",
   "execution_count": null,
   "metadata": {},
   "outputs": [],
   "source": []
  }
 ],
 "metadata": {
  "kernelspec": {
   "display_name": "Python 3",
   "language": "python",
   "name": "python3"
  },
  "language_info": {
   "codemirror_mode": {
    "name": "ipython",
    "version": 3
   },
   "file_extension": ".py",
   "mimetype": "text/x-python",
   "name": "python",
   "nbconvert_exporter": "python",
   "pygments_lexer": "ipython3",
   "version": "3.13.1"
  }
 },
 "nbformat": 4,
 "nbformat_minor": 2
}
