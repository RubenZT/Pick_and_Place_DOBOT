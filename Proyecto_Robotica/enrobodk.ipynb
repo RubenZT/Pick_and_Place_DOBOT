{
 "cells": [
  {
   "cell_type": "code",
   "execution_count": 1,
   "metadata": {},
   "outputs": [],
   "source": [
    "from robodk.robolink import *  # RoboDK API\n",
    "from robodk.robomath import *\n",
    "RDK = Robolink()    #se crea la variable que contiene la instancia Robolink que contine los comando o funciones a usar\n"
   ]
  },
  {
   "cell_type": "code",
   "execution_count": 2,
   "metadata": {},
   "outputs": [
    {
     "name": "stdout",
     "output_type": "stream",
     "text": [
      "RoboDK item (2836988189856) of type 3\n"
     ]
    }
   ],
   "source": [
    "#si existe mas de un robot en la estacion se muestra la lista de robots disponibles\n",
    "#y el usuario debe seleccionar con que robot desea trabajar\n",
    "robot = RDK.Item('',ITEM_TYPE_ROBOT)    \n",
    "#si no selecciona robot se cierra el programa\n",
    "if not robot.Valid():\n",
    "    quit()\n",
    "\n",
    "reference = robot.Parent()    #devuelve a que frame está referenciado el robot actualmente\n",
    "print (reference)\n"
   ]
  },
  {
   "cell_type": "code",
   "execution_count": 3,
   "metadata": {},
   "outputs": [
    {
     "name": "stdout",
     "output_type": "stream",
     "text": [
      "Pose(180.000, 30.000, 5.000,  -180.000, -0.000, 180.000):\n",
      "[[ -1.000, -0.000, -0.000, 180.000 ],\n",
      " [ -0.000, 1.000, 0.000, 30.000 ],\n",
      " [ 0.000, 0.000, -1.000, 5.000 ],\n",
      " [ 0.000, 0.000, 0.000, 1.000 ]]\n",
      "\n"
     ]
    }
   ],
   "source": [
    "robot.setPoseFrame(reference)    #le indicamos al robot a que referencia queremos que esté relacionado\n",
    "pose_ref=robot.Pose()    #devuelve la matriz de transformacion 4x4 del robot con respecto a la referencia anteriormente dado\n",
    "print (pose_ref)\n"
   ]
  },
  {
   "cell_type": "code",
   "execution_count": null,
   "metadata": {},
   "outputs": [],
   "source": [
    "posi = Pose_2_TxyzRxyz(pose_ref)    #convierte la matriz de transformacion a valores x,y,x,y sus respectivos angulos\n",
    "print (posi)\n"
   ]
  },
  {
   "cell_type": "code",
   "execution_count": null,
   "metadata": {},
   "outputs": [],
   "source": [
    "home_joints =  robot.JointsHome()    #devuelvee los valores por defecto de las articulaciones\n",
    "print (home_joints)\n",
    "robot.MoveJ(home_joints)"
   ]
  },
  {
   "cell_type": "code",
   "execution_count": null,
   "metadata": {},
   "outputs": [],
   "source": [
    "\n",
    "limitneg,limitpos,pp = robot.JointLimits()    #devuelve los valores limites de cada articulacion\n",
    "print (limitneg,  \"\\n\" ,limitpos ,\"\\n\" )\n"
   ]
  },
  {
   "cell_type": "code",
   "execution_count": null,
   "metadata": {},
   "outputs": [],
   "source": [
    "aprox = 60    #variable para aproximar a un punto\n",
    "#Creación de targets de la manera X,Y,Z\n",
    "a0 = transl(180,50,5+aprox)     \n",
    "a1 = transl(180,50,5)\n",
    "a2 = transl(220,50,5)\n",
    "a3 = transl(200,40,5)\n",
    "a4 = transl(220,30,5)\n",
    "a5 = transl(180,30,5)\n",
    "\n",
    "A = [a0, a1, a2, a3, a4,a5]    #arreglo que contiene todos los targets\n",
    "\n",
    "for i in range(len(A)):    #recorrido de targets\n",
    "    robot.MoveJ(A[i]*roty(-pi))    #movimento Joint de targets con una rotación -pi en X"
   ]
  },
  {
   "cell_type": "code",
   "execution_count": null,
   "metadata": {},
   "outputs": [],
   "source": []
  }
 ],
 "metadata": {
  "kernelspec": {
   "display_name": "Python 3",
   "language": "python",
   "name": "python3"
  },
  "language_info": {
   "codemirror_mode": {
    "name": "ipython",
    "version": 3
   },
   "file_extension": ".py",
   "mimetype": "text/x-python",
   "name": "python",
   "nbconvert_exporter": "python",
   "pygments_lexer": "ipython3",
   "version": "3.10.10"
  }
 },
 "nbformat": 4,
 "nbformat_minor": 2
}
